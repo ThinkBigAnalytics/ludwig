{
 "cells": [
  {
   "cell_type": "markdown",
   "metadata": {},
   "source": [
    "** some initial work...but need to use a real data set to exercise hyper-parameters, not synthetic **"
   ]
  },
  {
   "cell_type": "code",
   "execution_count": 56,
   "metadata": {},
   "outputs": [],
   "source": [
    "import h5py\n",
    "import numpy as np\n",
    "import pandas as pd\n",
    "import json\n",
    "import yaml\n",
    "from ludwig import LudwigModel"
   ]
  },
  {
   "cell_type": "code",
   "execution_count": 45,
   "metadata": {},
   "outputs": [],
   "source": [
    "with open(\"model.yaml\", 'r') as stream:\n",
    "    a = yaml.load(stream)\n",
    "    \n"
   ]
  },
  {
   "cell_type": "code",
   "execution_count": 25,
   "metadata": {},
   "outputs": [],
   "source": [
    "input_features = a['input_features']\n",
    "combiner = a['combiner']\n",
    "output_features = a['output_features']\n"
   ]
  },
  {
   "cell_type": "code",
   "execution_count": 92,
   "metadata": {},
   "outputs": [],
   "source": [
    "input_features = [{'name': 'customer_id', 'type': 'category', 'encoder': 'embed'},\n",
    " {'name': 'merchant_category',\n",
    "  'type': 'sequence',\n",
    "  'encoder': 'embed',\n",
    "  'embedding_size': 4,\n",
    "  'reduce_output': None},\n",
    " {'name': 'merchant_category',\n",
    "  'type': 'sequence',\n",
    "  'encoder': 'embed',\n",
    "  'embedding_size': 4,\n",
    "  'reduce_output': None},\n",
    " {'name': 'merchant_zipcode',\n",
    "  'type': 'sequence',\n",
    "  'encoder': 'embed',\n",
    "  'embedding_size': 4,\n",
    "  'reduce_output': None},\n",
    " {'name': 'transaction_amount',\n",
    "  'type': 'timeseries',\n",
    "  'encoder': 'none',\n",
    "  'reduce_output': None}]"
   ]
  },
  {
   "cell_type": "code",
   "execution_count": 36,
   "metadata": {},
   "outputs": [],
   "source": [
    "combiner = {'type': 'sequence',\n",
    " 'main_sequence_feature': 'merchant_category',\n",
    " 'encoder': 'rnn',\n",
    " 'reduce_output': 'last'}"
   ]
  },
  {
   "cell_type": "code",
   "execution_count": 71,
   "metadata": {},
   "outputs": [],
   "source": [
    "#model weights=8221744\n",
    "output_features = [{'name': 'fraud_label', \n",
    "                    'type': 'binary',\n",
    "                     'fc_layers' : [{'fc_size': 64}]}]"
   ]
  },
  {
   "cell_type": "code",
   "execution_count": 83,
   "metadata": {},
   "outputs": [],
   "source": [
    "training = {'optimizer': {'type': 'adam', 'beta1': 0.9, 'beta2': 0.999, 'epsilon': 1e-08},\n",
    " 'epochs': 100,\n",
    " 'regularizer': 'l2',\n",
    " 'regularization_lambda': 0,\n",
    " 'learning_rate': 0.001,\n",
    " 'batch_size': 128,\n",
    " 'dropout_rate': 0.0,\n",
    " 'early_stop': 5,\n",
    " 'reduce_learning_rate_on_plateau': 0,\n",
    " 'reduce_learning_rate_on_plateau_patience': 5,\n",
    " 'reduce_learning_rate_on_plateau_rate': 0.5,\n",
    " 'increase_batch_size_on_plateau': 0,\n",
    " 'increase_batch_size_on_plateau_patience': 5,\n",
    " 'increase_batch_size_on_plateau_rate': 2,\n",
    " 'increase_batch_size_on_plateau_max': 512,\n",
    " 'decay': False,\n",
    " 'decay_steps': 10000,\n",
    " 'decay_rate': 0.96,\n",
    " 'staircase': False,\n",
    " 'gradient_clipping': None,\n",
    " 'validation_field': 'combined',\n",
    " 'validation_measure': 'loss',\n",
    " 'bucketing_field': None,\n",
    " 'learning_rate_warmup_epochs': 5}"
   ]
  },
  {
   "cell_type": "code",
   "execution_count": 93,
   "metadata": {},
   "outputs": [],
   "source": [
    "model = LudwigModel({'input_features': input_features, 'output_features': output_features, 'combiner': combiner})"
   ]
  },
  {
   "cell_type": "code",
   "execution_count": 94,
   "metadata": {},
   "outputs": [
    {
     "name": "stderr",
     "output_type": "stream",
     "text": [
      "/Users/benmackenzie/projects/ludwig/venv/lib/python3.6/site-packages/h5py/_hl/dataset.py:313: H5pyDeprecationWarning: dataset.value has been deprecated. Use dataset[()] instead.\n",
      "  \"Use dataset[()] instead.\", H5pyDeprecationWarning)\n"
     ]
    }
   ],
   "source": [
    "train_stats = model.train(data_hdf5='sequence_dataset.hdf5', train_set_metadata_json='sequence_dataset.json')"
   ]
  },
  {
   "cell_type": "code",
   "execution_count": 95,
   "metadata": {},
   "outputs": [
    {
     "data": {
      "text/plain": [
       "0.15998358726501466"
      ]
     },
     "execution_count": 95,
     "metadata": {},
     "output_type": "execute_result"
    }
   ],
   "source": [
    "train_stats['test']['fraud_label']['loss'][-1]"
   ]
  },
  {
   "cell_type": "code",
   "execution_count": 68,
   "metadata": {},
   "outputs": [
    {
     "data": {
      "text/plain": [
       "{'train': OrderedDict([('fraud_label',\n",
       "               OrderedDict([('loss',\n",
       "                             [0.4362809888778194,\n",
       "                              0.3824954186716387,\n",
       "                              0.3618650436401367,\n",
       "                              0.3519780866561397,\n",
       "                              0.35535372457196635,\n",
       "                              0.3514689168622417,\n",
       "                              0.34770030360068044,\n",
       "                              0.34698658604775706,\n",
       "                              0.34680686458464594,\n",
       "                              0.34596307816043975]),\n",
       "                            ('accuracy',\n",
       "                             [0.8709677419354839,\n",
       "                              0.8709677419354839,\n",
       "                              0.8709677419354839,\n",
       "                              0.8709677419354839,\n",
       "                              0.8709677419354839,\n",
       "                              0.8709677419354839,\n",
       "                              0.8709677419354839,\n",
       "                              0.8709677419354839,\n",
       "                              0.8709677419354839,\n",
       "                              0.8709677419354839])])),\n",
       "              ('combined',\n",
       "               {'loss': [0.4362809888778194,\n",
       "                 0.3824954186716387,\n",
       "                 0.3618650436401367,\n",
       "                 0.3519780866561397,\n",
       "                 0.35535372457196635,\n",
       "                 0.3514689168622417,\n",
       "                 0.34770030360068044,\n",
       "                 0.34698658604775706,\n",
       "                 0.34680686458464594,\n",
       "                 0.34596307816043975],\n",
       "                'accuracy': [0.8709677419354839,\n",
       "                 0.8709677419354839,\n",
       "                 0.8709677419354839,\n",
       "                 0.8709677419354839,\n",
       "                 0.8709677419354839,\n",
       "                 0.8709677419354839,\n",
       "                 0.8709677419354839,\n",
       "                 0.8709677419354839,\n",
       "                 0.8709677419354839,\n",
       "                 0.8709677419354839]})]),\n",
       " 'validation': OrderedDict([('fraud_label',\n",
       "               OrderedDict([('loss',\n",
       "                             [0.35765310128529865,\n",
       "                              0.25756553808848065,\n",
       "                              0.1951564351717631,\n",
       "                              0.14539726575215658,\n",
       "                              0.10603322585423787,\n",
       "                              0.10652542114257812,\n",
       "                              0.11090355118115743,\n",
       "                              0.11388743917147319,\n",
       "                              0.11280720432599385,\n",
       "                              0.1060698131720225]),\n",
       "                            ('accuracy',\n",
       "                             [1.0,\n",
       "                              1.0,\n",
       "                              1.0,\n",
       "                              1.0,\n",
       "                              1.0,\n",
       "                              1.0,\n",
       "                              1.0,\n",
       "                              1.0,\n",
       "                              1.0,\n",
       "                              1.0])])),\n",
       "              ('combined',\n",
       "               {'loss': [0.35765310128529865,\n",
       "                 0.25756553808848065,\n",
       "                 0.1951564351717631,\n",
       "                 0.14539726575215658,\n",
       "                 0.10603322585423787,\n",
       "                 0.10652542114257812,\n",
       "                 0.11090355118115743,\n",
       "                 0.11388743917147319,\n",
       "                 0.11280720432599385,\n",
       "                 0.1060698131720225],\n",
       "                'accuracy': [1.0,\n",
       "                 1.0,\n",
       "                 1.0,\n",
       "                 1.0,\n",
       "                 1.0,\n",
       "                 1.0,\n",
       "                 1.0,\n",
       "                 1.0,\n",
       "                 1.0,\n",
       "                 1.0]})]),\n",
       " 'test': OrderedDict([('fraud_label',\n",
       "               OrderedDict([('loss',\n",
       "                             [0.3547130346298218,\n",
       "                              0.25936944484710694,\n",
       "                              0.20039637088775636,\n",
       "                              0.14282466173171998,\n",
       "                              0.10480567216873168,\n",
       "                              0.10182219743728638,\n",
       "                              0.10437912940979004,\n",
       "                              0.11208140850067139,\n",
       "                              0.11515682935714722,\n",
       "                              0.10981454849243164]),\n",
       "                            ('accuracy',\n",
       "                             [1.0,\n",
       "                              1.0,\n",
       "                              1.0,\n",
       "                              1.0,\n",
       "                              1.0,\n",
       "                              1.0,\n",
       "                              1.0,\n",
       "                              1.0,\n",
       "                              1.0,\n",
       "                              1.0])])),\n",
       "              ('combined',\n",
       "               {'loss': [0.3547130346298218,\n",
       "                 0.25936944484710694,\n",
       "                 0.20039637088775636,\n",
       "                 0.14282466173171998,\n",
       "                 0.10480567216873168,\n",
       "                 0.10182219743728638,\n",
       "                 0.10437912940979004,\n",
       "                 0.11208140850067139,\n",
       "                 0.11515682935714722,\n",
       "                 0.10981454849243164],\n",
       "                'accuracy': [1.0,\n",
       "                 1.0,\n",
       "                 1.0,\n",
       "                 1.0,\n",
       "                 1.0,\n",
       "                 1.0,\n",
       "                 1.0,\n",
       "                 1.0,\n",
       "                 1.0,\n",
       "                 1.0]})])}"
      ]
     },
     "execution_count": 68,
     "metadata": {},
     "output_type": "execute_result"
    }
   ],
   "source": [
    "train_stats\n"
   ]
  },
  {
   "cell_type": "code",
   "execution_count": null,
   "metadata": {},
   "outputs": [],
   "source": [
    "import Ludwig\n"
   ]
  }
 ],
 "metadata": {
  "kernelspec": {
   "display_name": "Python 3",
   "language": "python",
   "name": "python3"
  },
  "language_info": {
   "codemirror_mode": {
    "name": "ipython",
    "version": 3
   },
   "file_extension": ".py",
   "mimetype": "text/x-python",
   "name": "python",
   "nbconvert_exporter": "python",
   "pygments_lexer": "ipython3",
   "version": "3.6.6"
  }
 },
 "nbformat": 4,
 "nbformat_minor": 2
}
